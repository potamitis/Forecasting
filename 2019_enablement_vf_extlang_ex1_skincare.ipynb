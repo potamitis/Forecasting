{
 "cells": [
  {
   "cell_type": "markdown",
   "metadata": {},
   "source": [
    "## Import necessary modules"
   ]
  },
  {
   "cell_type": "code",
   "execution_count": null,
   "metadata": {},
   "outputs": [],
   "source": [
    "import sys \n",
    "import swat\n",
    "import matplotlib\n",
    "import matplotlib.pyplot as plt \n",
    "from matplotlib import dates as mpldates\n",
    "import argparse\n",
    "import os\n",
    "import inspect\n",
    "import re"
   ]
  },
  {
   "cell_type": "markdown",
   "metadata": {},
   "source": [
    "## Set global variables\n",
    "You may need to change these based on the CAS configuration you are using."
   ]
  },
  {
   "cell_type": "code",
   "execution_count": null,
   "metadata": {},
   "outputs": [],
   "source": [
    "# Set the CAS port  \n",
    "DEFAULT_PORT = 5570  \n",
    "# Host running CAS \n",
    "DEFAULT_HOST = \"localhost\" \n",
    "#DEFAULT_HOST = \"sasserver.demo.sas.com\" \n",
    "# Name of caslib to use \n",
    "DEFAULT_CASLIB = \"mysess\" \n",
    "# Set the protocol (None == autodetect) \n",
    "PROTOCOL = None \n",
    "# Set path to data\n",
    "DATA_PATH = \"/opt/sas/viya/config/data/cas/default/public/\""
   ]
  },
  {
   "cell_type": "markdown",
   "metadata": {},
   "source": [
    "## Define wrapper functions to create ESM and ARIMA models\n",
    "\n",
    "NOTE: These functions use algorithms from the statsmodels package. The functions will not be called from this Python program but from the Python program created and run by the EXTLANG package. They are defined here to simplify the embedded CMP code defined below. This code could also reside in a separate file that can be pushed into the generated Python code using the PushCodeFile method, which is the preferred method since inline code cannot contain certain characters, such as quotation marks, since they would be interpolated into the SAS code. "
   ]
  },
  {
   "cell_type": "code",
   "execution_count": null,
   "metadata": {},
   "outputs": [],
   "source": [
    "def _local_esm_fun(y): \n",
    "    from statsmodels.tsa.holtwinters import ExponentialSmoothing \n",
    "    model = ExponentialSmoothing(y, trend=\"additive\") \n",
    "    model_fit = model.fit() \n",
    "    yhat = model_fit.predict(0, int(NFOR) - 1) \n",
    "    return yhat \n",
    "\n",
    "def _local_arima_fun(y, fcst_length, dolog=True, order=(0,1,1),  \n",
    "                     seasonal_order=(0,1,1,12)): \n",
    "    import statsmodels.api as sm \n",
    "    if dolog: \n",
    "        y = np.log(y) \n",
    "    model=sm.tsa.statespace.SARIMAX(y, order=order, \n",
    "                                    seasonal_order=seasonal_order, \n",
    "                                    enforce_invertibility=False) \n",
    "    model_fit=model.fit() \n",
    "    predicted = model_fit.predict(0, int(fcst_length) -1)  \n",
    "    if dolog: \n",
    "        predicted = np.exp(predicted) \n",
    "    return predicted "
   ]
  },
  {
   "cell_type": "markdown",
   "metadata": {},
   "source": [
    "## Add code to call the Timedata.RunTimeCode action\n",
    "\n",
    "This includes creating the connection and loading the action set. "
   ]
  },
  {
   "cell_type": "code",
   "execution_count": null,
   "metadata": {},
   "outputs": [],
   "source": [
    "if __name__ == \"__main__\": \n",
    "    # Parse arguments \n",
    "    port, protocol, host, caslib = DEFAULT_PORT, PROTOCOL, DEFAULT_HOST,\\\n",
    "                                             DEFAULT_CASLIB \n",
    "\n",
    "    # Create connection \n",
    "    conn = swat.CAS(host, port, caslib=caslib, \n",
    "                    protocol=protocol) \n",
    "\n",
    "\n",
    "    # Load needed action sets \n",
    "    conn.loadactionset(actionset=\"timedata\") \n"
   ]
  },
  {
   "cell_type": "markdown",
   "metadata": {},
   "source": [
    "## Load the dataset into a CASLIB"
   ]
  },
  {
   "cell_type": "code",
   "execution_count": null,
   "metadata": {},
   "outputs": [],
   "source": [
    "    # Specify path to data \n",
    "    indatadir = DATA_PATH \n",
    "    indata = \"skinproduct\" \n",
    "    if not conn.table.tableExists(table=indata).exists: \n",
    "        path_no_ext = os.path.join(indatadir, indata)\n",
    "        if os.path.exists(path_no_ext + \".sashdat\"):\n",
    "            tbl = conn.upload_file(path_no_ext+\".sashdat\", casout={\"name\":indata})\n",
    "        elif os.path.exists(path_no_ext + \".sas7bdat\"):\n",
    "            tbl = conn.upload_file(path_no_ext+\".sas7bdat\", casout={\"name\":indata})\n",
    "        else: \n",
    "            tbl = conn.upload_file(path_no_ext+\".csv\",  \n",
    "                                               casout={\"name\":indata}) "
   ]
  },
  {
   "cell_type": "markdown",
   "metadata": {},
   "source": [
    "## Specify the CMP code that is to be executed by the Timedata.RunTimeCode action \n",
    "Note how we use the inspect module to read the code from the _local_arima_fun_ function and remove all \"#\" comments from the text, since that will conflict with the SAS parser. In addition to the function definition, the generated Python code sets the PREDICT array by calling _local_arima_fun()_ with the input data set (Y). Besides running the code, objects are created to collect logs, variable status, and to store the code into a table. The stored code will be read in the next example of this tutorial.\n",
    "    "
   ]
  },
  {
   "cell_type": "code",
   "execution_count": null,
   "metadata": {},
   "outputs": [],
   "source": [
    "    # trim comments from local functions and get their text \n",
    "    hash_comment = re.compile(r\"#.*\") \n",
    "    remove_comments = lambda s: re.sub(hash_comment, r\"\", s) \n",
    "    local_esm_text = remove_comments(inspect.getsource(_local_esm_fun)) \n",
    "    local_arima_text = remove_comments(inspect.getsource(_local_arima_fun)) \n",
    "    \n",
    "    # Create string of PushCodeLine - SAS will hang if you just give it a bunch of newlines\n",
    "    \n",
    "    def makeLinePushCalls(s, objName):\n",
    "        out = []\n",
    "        for line in s.splitlines():\n",
    "            assert line.count(\"'\") == 0\n",
    "            out.append(\"  rc = {obj}.PushCodeLine('{line}');\".format(obj=objName, line=line))\n",
    "        return \"\\n\".join(out)\n",
    "    \n",
    "    local_esm_text = makeLinePushCalls(local_esm_text, \"py\")\n",
    "    local_arima_text = makeLinePushCalls(local_arima_text, \"py\")\n",
    "    \n",
    "    cmpcode = \"\"\"\n",
    "       declare object py (PYTHON3);\n",
    "       rc = py.Initialize();   \n",
    "       rc = py.AddVariable(revenue, 'ALIAS', 'Y');\n",
    "       rc = py.AddVariable(pyPred, 'ALIAS', 'PREDICT', 'READONLY', 'FALSE');\n",
    "       rc = py.AddVariable(_LENGTH_, 'ALIAS', 'NFOR');\n",
    "\n",
    "      {arimaFunc}\n",
    "      {esmFunc}\n",
    "      \n",
    "      rc = py.PushCodeLine('import numpy');\n",
    "      rc = py.PushCodeLine('PREDICT = _local_arima_fun(Y, NFOR, seasonal_order=(0,0,0,0))') ;\n",
    "  \n",
    "      rc = py.Run();\n",
    "  \n",
    "      declare object pylog(OUTEXTLOG) ;\n",
    "      rc = pylog.Collect(py, 'EXECUTION') ;\n",
    "\n",
    "      declare object pyvars(OUTEXTVARSTATUS) ;\n",
    "      rc = pyvars.collect(py) ;\n",
    "\n",
    "      /* Collect the code into a table to reuse it in the next example of the tutorial*/\n",
    "      declare object outcode(OUTEXTCODE) ;\n",
    "      rc = outcode.setOption(\"RUNID\", \"saspedia_extlang_ex2\") ;\n",
    "      rc = outcode.collect(py) ;\n",
    "  \"\"\".format(esmFunc=local_esm_text, arimaFunc=local_arima_text) "
   ]
  },
  {
   "cell_type": "code",
   "execution_count": null,
   "metadata": {},
   "outputs": [],
   "source": [
    "print(cmpcode)\n"
   ]
  },
  {
   "cell_type": "markdown",
   "metadata": {},
   "source": [
    "## Specify the parameters of the action call \n",
    "Note that we promote the outcode table. This table will contain source code to be used in the next example. Therefore, you must use the same CAS session for that example. "
   ]
  },
  {
   "cell_type": "code",
   "execution_count": null,
   "metadata": {},
   "outputs": [],
   "source": [
    "    # runTimecode declaration gets hard to read with all  \n",
    "    # the nested dicts, so use this shorthand for outer  \n",
    "    # dicts and the {} syntax for the innermost dicts \n",
    "    d = dict \n",
    "    # Shorthand for dicts that only have a key for \"name\" \n",
    "    dname = lambda name: dict(name=name) \n",
    "    # Define the timedata.runTimecode object \n",
    "    res = conn.timedata.runtimecode( \n",
    "                  table={ \n",
    "                      'name':indata, \n",
    "                      'groupby':[  \n",
    "                                 dname(\"DistributionCenter\")] \n",
    "                        },   \n",
    "                  series=[d(accumulate='SUM', name='Revenue')], \n",
    "                  interval='Week', \n",
    "                  require=d(pkg=\"extlang\"), \n",
    "                  timeid=d(name='date'), \n",
    "                  lead=12, \n",
    "                  arrayout={'arrays':[dname(\"pyPred\")], \n",
    "                            'table':d(name=\"outarray\", replace=True)}, \n",
    "                  objout=[ \n",
    "                    d(table=dname(\"outobj_pylog\"), objRef=\"pylog\"), \n",
    "                    d(table=dname(\"outobj_pyvars\"), objRef=\"pyvars\"), \n",
    "                     d(table=swat.CASTable(\"outcode\", promote=True), objref=\"outcode\"), \n",
    "                      ], \n",
    "                  code=cmpcode) \n",
    "    del(d) \n",
    "    print(res)\n",
    "    print(conn)"
   ]
  },
  {
   "cell_type": "markdown",
   "metadata": {},
   "source": [
    "## Print Python log\n",
    "This should just print some output from the statsmodels package. "
   ]
  },
  {
   "cell_type": "code",
   "execution_count": null,
   "metadata": {},
   "outputs": [],
   "source": [
    "    outlog_tbl = conn.CASTable(\"outobj_pylog\") \n",
    "    loglen = sum(outlog_tbl[\"_LOGLEN_\"].values) \n",
    "    # Print log if it's not empty\n",
    "    if loglen > 0: \n",
    "        text = \"\".join(outlog_tbl[\"_LOGTEXT_\"].values) \n",
    "        print(\"LOG:\") \n",
    "        print(text) \n",
    "        print() "
   ]
  },
  {
   "cell_type": "markdown",
   "metadata": {},
   "source": [
    "## Check writable variables' status\n",
    "If any of the writable variables were not updated (i.e. data was not brought back to the SAS program), print them out. \n",
    "This code should not produce any output."
   ]
  },
  {
   "cell_type": "code",
   "execution_count": null,
   "metadata": {},
   "outputs": [],
   "source": [
    "    varstats_tbl = conn.CASTable(\"outobj_pyvars\") \n",
    "    varnames = varstats_tbl[\"_NAME_\"].values \n",
    "    updated = varstats_tbl[\"UPDATED\"].values \n",
    "    for varname,is_upd in zip(varnames,updated): \n",
    "        if int(is_upd) != 1: \n",
    "            print(\"WARNING :: Variable {0} was NOT updated\".format(varname)) "
   ]
  },
  {
   "cell_type": "markdown",
   "metadata": {},
   "source": [
    "## Tabulate a summary of the original and predicted values \n"
   ]
  },
  {
   "cell_type": "code",
   "execution_count": null,
   "metadata": {},
   "outputs": [],
   "source": [
    "    outarray_tbl = conn.CASTable(\"OUTARRAY\")\n",
    "    \n",
    "    column_names = [\"DATE\", \"DistributionCenter\", \"Revenue\", \"pypred\"] \n",
    "    dates, distr_centers, orig_values, predicted_values = \\\n",
    "        [outarray_tbl[col].values for col in column_names] \n",
    "    print(\"------------------------- RESULTS --------------------------\") \n",
    "    print(  \"{0:^12}|{1:^20}|{2:^15}|{3:^15}\".format(\"Date\", \"DistributionCenter\", \"Revenue\", \"PREDICTED\")) \n",
    "    print(\"-\"*62) \n",
    "    for i, (date, distr_center, air, pypred) in \\\n",
    "        enumerate(zip( dates, distr_centers, orig_values, predicted_values)): \n",
    "        print(\"{0:<12}|{1:^20}|{2:<15}|{3:<15}\" \n",
    "              .format(str(date), distr_center, air, pypred)) \n",
    "    print(\"\\n\") "
   ]
  },
  {
   "cell_type": "markdown",
   "metadata": {},
   "source": [
    "## Plot the predicted and actual revenue for Miami, Chicago, and Atlanta "
   ]
  },
  {
   "cell_type": "code",
   "execution_count": null,
   "metadata": {},
   "outputs": [],
   "source": [
    "    from pandas.plotting import register_matplotlib_converters\n",
    "    register_matplotlib_converters()\n",
    "    for city,color in zip([\"Miami\", \"Chicago\", \"Atlanta\"],[\"green\", \"purple\", \"red\"]): \n",
    "        idc = [i for i,ctr in enumerate(distr_centers) if ctr==city] \n",
    "        ctr_orig = orig_values[idc] \n",
    "        ctr_predicted = predicted_values[idc] \n",
    "        dates_1x = dates[idc] \n",
    "        ax = plt.gca() \n",
    "        plt.ylabel(\"Revenue\") \n",
    "        plt.scatter(dates_1x, ctr_orig, color=\"black\", marker=\"o\", lw=0.5,  \n",
    "                    facecolors=\"none\", edgecolors=\"black\") \n",
    "        plt.plot(dates_1x, ctr_predicted, color=color, ls=\"-\", lw=0.5,  \n",
    "                    label=city) \n",
    "    handles, labels = ax.get_legend_handles_labels() \n",
    "    ax.legend(handles, labels) \n",
    "    # Set x ticks to be less frequent so text doesn't get clobbered \n",
    "    ax.xaxis.set_major_locator(mpldates.YearLocator()) \n",
    "    # The statsmodels ARIMA function produces a big outlier, so set the limits \n",
    "    ax.set_ylim(1000000, 10000000) \n",
    "    plt.savefig(\"extlang_ex2_skincare.png\") "
   ]
  }
 ],
 "metadata": {
  "kernelspec": {
   "display_name": "Python 3",
   "language": "python",
   "name": "python3"
  },
  "language_info": {
   "codemirror_mode": {
    "name": "ipython",
    "version": 3
   },
   "file_extension": ".py",
   "mimetype": "text/x-python",
   "name": "python",
   "nbconvert_exporter": "python",
   "pygments_lexer": "ipython3",
   "version": "3.7.3"
  }
 },
 "nbformat": 4,
 "nbformat_minor": 2
}
