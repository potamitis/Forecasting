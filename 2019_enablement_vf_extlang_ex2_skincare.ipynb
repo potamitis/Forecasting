{
 "cells": [
  {
   "cell_type": "markdown",
   "metadata": {},
   "source": [
    "## Import necessary modules"
   ]
  },
  {
   "cell_type": "code",
   "execution_count": null,
   "metadata": {},
   "outputs": [],
   "source": [
    "import sys \n",
    "import swat\n",
    "import matplotlib\n",
    "import matplotlib.pyplot as plt \n",
    "from matplotlib import dates as mpldates\n",
    "import argparse\n",
    "import os\n",
    "import inspect\n",
    "import re\n",
    "import inspect\n",
    "import tempfile\n",
    "import collections\n",
    "import numpy as np"
   ]
  },
  {
   "cell_type": "markdown",
   "metadata": {},
   "source": [
    "## Set global variables\n",
    "You may need to change these based on the CAS configuration you are using."
   ]
  },
  {
   "cell_type": "code",
   "execution_count": null,
   "metadata": {},
   "outputs": [],
   "source": [
    "# Set the CAS port  \n",
    "DEFAULT_PORT = 5570  \n",
    "# Host running CAS \n",
    "DEFAULT_HOST = \"localhost\" \n",
    "#DEFAULT_HOST = \"sasserver.demo.sas.com\" \n",
    "# Name of caslib to use \n",
    "DEFAULT_CASLIB = \"mycas\" \n",
    "# Set the protocol (None == autodetect) \n",
    "PROTOCOL = None \n",
    "# Directory to store temporary script in\n",
    "TEMPDIR = \"/tmp\"\n",
    "# Criterion for selecting the model\n",
    "MODEL_SELECTION_CRITERION = \"MAPE\"\n",
    "# Set path to data\n",
    "DATA_PATH = \"/opt/sas/viya/config/data/cas/default/public/\"\n",
    "# Path containing include scripts\n",
    "#CODE_PATH = \"/opt/sasinside/DemoData/R\"\n",
    "CODE_PATH = \"/home/sasdemo\""
   ]
  },
  {
   "cell_type": "markdown",
   "metadata": {},
   "source": [
    "## Add code to call the Timedata.RunTimeCode action\n",
    "\n",
    "This includes creating the connection and loading the action set. "
   ]
  },
  {
   "cell_type": "code",
   "execution_count": null,
   "metadata": {},
   "outputs": [],
   "source": [
    "if __name__ == \"__main__\": \n",
    "    # Parse arguments \n",
    "    port, protocol, host, caslib = DEFAULT_PORT, PROTOCOL, DEFAULT_HOST, DEFAULT_CASLIB \n",
    "\n",
    "    # Create connection \n",
    "    conn = swat.CAS(host, port, caslib=caslib, \n",
    "                    protocol=protocol) \n",
    "\n",
    "\n",
    "    # Load needed action sets \n",
    "    conn.loadactionset(actionset=\"timedata\") \n"
   ]
  },
  {
   "cell_type": "markdown",
   "metadata": {},
   "source": [
    "## Load the dataset into a CASLIB"
   ]
  },
  {
   "cell_type": "code",
   "execution_count": null,
   "metadata": {},
   "outputs": [],
   "source": [
    "    # Specify path to data \n",
    "    indatadir = DATA_PATH \n",
    "    indata = \"skinproduct\" \n",
    "    if not conn.table.tableExists(table=indata).exists: \n",
    "        path_no_ext = os.path.join(indatadir, indata)\n",
    "        if os.path.exists(path_no_ext + \".sashdat\"):\n",
    "            tbl = conn.upload_file(path_no_ext+\".sashdat\", casout={\"name\":indata})\n",
    "        elif os.path.exists(path_no_ext + \".sas7bdat\"):\n",
    "            tbl = conn.upload_file(path_no_ext+\".sas7bdat\", casout={\"name\":indata})\n",
    "        else: \n",
    "            tbl = conn.upload_file(path_no_ext+\".csv\",  \n",
    "                                               casout={\"name\":indata}) "
   ]
  },
  {
   "cell_type": "markdown",
   "metadata": {},
   "source": [
    "## Specify the CMP code that is to be executed by the Timedata.RunTimeCode action \n",
    "Note how we use the inspect module to read the code from the _local_arima_fun_ function and remove all \"#\" comments from the text, since that will conflict with the SAS parser. In addition to the function definition, the generated Python code sets the PREDICT array by calling _local_arima_fun()_ with the input data set (Y). Besides running the code, objects are created to collect logs, variable status, and to store the code into a table. The stored code will be read in the next example of this tutorial.\n",
    "    "
   ]
  },
  {
   "cell_type": "code",
   "execution_count": null,
   "metadata": {},
   "outputs": [],
   "source": [
    "    rcode_file = os.path.join(CODE_PATH, \"r_arima_code.r\")\n",
    "\n",
    "    cmpcode = \"\"\"\n",
    "      declare object py(PYTHON3) ;\n",
    "      rc = py.Initialize() ;\n",
    "      \n",
    "      /* We'll be pushing the same code as the previous example, so PREDICT\n",
    "         and Y will be used in the same way with the data given */\n",
    "      rc = py.addVariable(revenue, 'ALIAS', 'Y') ;\n",
    "      rc = py.addVariable(pyPred, 'ALIAS', 'PREDICT', 'READONLY', 'FALSE') ;\n",
    "      rc = py.addVariable(_LENGTH_, 'ALIAS', 'NFOR') ;\n",
    "      \n",
    "      /* Push all code from Example 2. Note that this only pushes the code itself.\n",
    "         The variables must still be specified. */\n",
    "      declare object incode(INEXTCODE) ;\n",
    "      rc = py.PushCodeFromTable(incode, \"saspedia_extlang_ex2\") ;\n",
    "\n",
    "      rc = py.Run() ;\n",
    "\n",
    "      declare object pylog(OUTEXTLOG) ;\n",
    "      rc = pylog.Collect(py, 'EXECUTION') ;\n",
    "\n",
    "      declare object pyvars(OUTEXTVARSTATUS) ;\n",
    "      rc = pyvars.collect(py) ;\n",
    "\n",
    "      /* Create R model */\n",
    "      declare object robj(R) ;\n",
    "      rc = robj.Initialize() ;\n",
    "      \n",
    "      \n",
    "      rc = robj.PushCodeLine('library(astsa)') ;\n",
    "      rc = robj.PushCodeLine('library(forecast)') ;\n",
    "      rc = robj.PushCodeLine('') ;\n",
    "      rc = robj.PushCodeLine('PREDICT <- seq(1.1, 156.1, by=1.0)') ;\n",
    "      ** The Y passed in from SAS will contain the trailing missing values for the horizon, \n",
    "       which the R functions we use do not want there ;\n",
    "      rc = robj.PushCodeLine(\"Y <- Y[1:(NFOR - HORIZON)]\") ;\n",
    "      rc = robj.PushCodeLine('Y_ts <- ts(Y, frequency=12)') ;\n",
    "      **rc = robj.PushCodeLine('Y_ts <- window(Y_ts, 1, c(length(Y_ts), 12) )') ;\n",
    "      rc = robj.PushCodeLine('log_Y_ts <- log(Y_ts)') ;\n",
    "      rc = robj.PushCodeLine('') ;\n",
    "      rc = robj.PushCodeLine('model <- stats::arima(log_Y_ts, order=c(p=0, d=1, q=1), seasonal=list(order=c(0,1,1), frequency=12))') ;\n",
    "\n",
    "      **rc = robj.PushCodeLine('summary(model)') ;\n",
    "\n",
    "      rc = robj.PushCodeLine('a <- stats::predict(model, n.ahead=HORIZON)') ;\n",
    "      rc = robj.PushCodeLine('PREDICT <- c( exp(fitted.values(model)), exp(a$pred) )') ;\n",
    "      \n",
    "      rc = robj.addVariable(revenue, 'ALIAS', 'Y') ;\n",
    "      rc = robj.addVariable(rPred, 'ALIAS', 'PREDICT', 'READONLY', 'FALSE') ;\n",
    "      rc = robj.addVariable(_LENGTH_, 'ALIAS', 'NFOR') ;\n",
    "      rc = robj.AddVariable(_LEAD_,'ALIAS','HORIZON') ;\n",
    "      rc = robj.Run() ;\n",
    "\n",
    "      declare object rlog(OUTEXTLOG) ;\n",
    "      rc = rlog.Collect(robj, 'EXECUTION') ;\n",
    "      declare object rvars(OUTEXTVARSTATUS) ;\n",
    "      rc = rvars.collect(robj) ;\n",
    "      \n",
    "      /* Now the ATSM stuff */    \n",
    "      \n",
    "      /* Create external model specification for the Python model */\n",
    "      declare object pyExmSpec(EXMSPEC);\n",
    "      rc = pyExmSpec.open();\n",
    "      rc = pyExmSpec.setOption('METHOD','PERFECT');\n",
    "      rc = pyExmSpec.setOption('NLAGPCT',0);\n",
    "      rc = pyExmSpec.setOption('NPARMS',2);\n",
    "      rc = pyExmSpec.setOption('PREDICT','pyPred'); \n",
    "      rc = pyExmSpec.close();\n",
    "      \n",
    "      /* Create external model specification for the R model */\n",
    "      declare object rExmSpec(EXMSPEC);\n",
    "      rc = rExmSpec.open();\n",
    "      rc = rExmSpec.setOption('METHOD','PERFECT');\n",
    "      rc = rExmSpec.setOption('NLAGPCT',0);\n",
    "      rc = rExmSpec.setOption('NPARMS',2);\n",
    "      rc = rExmSpec.setOption('PREDICT','rPred'); \n",
    "      rc = rExmSpec.close();\n",
    "\n",
    "      /* Specify data */\n",
    "      declare object myData(tsdf);\n",
    "      rc = myData.Initialize();\n",
    "      rc = myData.AddY(revenue);\n",
    "      rc = myData.SetOption('seasonality', 12);\n",
    "      \n",
    "      /* Add ESM and ARIMAX models to evaluate */\n",
    "      declare object myDiagSpec(diagspec);\n",
    "      rc = myDiagSpec.Open();\n",
    "      rc = myDiagSpec.SetESM();\n",
    "      rc = myDiagSpec.SetARIMAX();\n",
    "      rc = myDiagSpec.Close();\n",
    "      \n",
    "      /* Auto-generate the best model for each model family */\n",
    "      declare object myDiag(diagnose);\n",
    "      rc = myDiag.Initialize(myData);\n",
    "      rc = myDiag.SetSpec(myDiagSpec);\n",
    "      rc = myDiag.Run();\n",
    "\n",
    "      /* Add the external ARIMAX forecast to the dataframe */\n",
    "      rc = myData.AddSeries(pyPred);\n",
    "      rc = myData.AddSeries(rPred);\n",
    "\n",
    "      /* Create a selection list and add external model */\n",
    "      declare object mySel(SELSPEC);\n",
    "      rc = mySel.open(2);\n",
    "      rc = mySel.AddFrom(pyExmSpec);\n",
    "      rc = mySel.AddFrom(rExmSpec);\n",
    "      rc = mySel.SetOption('CRITERION', '{criterion}');\n",
    "      rc = mySel.close();\n",
    "\n",
    "      /* Run the forecast engine to select the best model */\n",
    "      declare object myEng(foreng);\n",
    "      rc = myEng.Initialize(myDiag);\n",
    "      rc = myEng.AddFrom(mySel);\n",
    "      rc = myEng.SetOption('HOLDOUT',12);\n",
    "      rc = myEng.SetOption('CRITERION','{criterion}');\n",
    "      rc = myEng.Run();\n",
    "\n",
    "      /* Collect forecast output data */\n",
    "      declare object modInfo(outmodelinfo);\n",
    "      declare object fcst(outfor);\n",
    "      declare object est(outest);\n",
    "      declare object select(outselect);\n",
    "\n",
    "      rc = modInfo.Collect(myEng);\n",
    "      rc = fcst.Collect(myEng);\n",
    "      rc = est.Collect(myEng);\n",
    "      rc = select.Collect(myEng);\n",
    "    \"\"\".format(rcode_file=rcode_file, criterion=MODEL_SELECTION_CRITERION)"
   ]
  },
  {
   "cell_type": "code",
   "execution_count": null,
   "metadata": {},
   "outputs": [],
   "source": [
    "print(cmpcode)\n"
   ]
  },
  {
   "cell_type": "markdown",
   "metadata": {},
   "source": [
    "## Specify the parameters of the action call \n",
    "Note that we promote the outcode table. This table will contain source code to be used in the next example. Therefore, you must use the same CAS session for that example. "
   ]
  },
  {
   "cell_type": "code",
   "execution_count": null,
   "metadata": {},
   "outputs": [],
   "source": [
    "    # runTimecode declaration gets hard to read with all the \n",
    "    # nested dicts, so use this shorthand for outer dicts and the\n",
    "    # {} syntax for the innermost dicts\n",
    "    d = dict\n",
    "    # Shorthand for dicts that only have a key for \"name\"\n",
    "    dname = lambda name: dict(name=name)\n",
    "\n",
    "    # Define the timedata.runTimecode object\n",
    "    res = conn.timedata.runtimecode(\n",
    "                          table={\n",
    "                              'name':'skinproduct',\n",
    "                              'groupby':[#dname(\"ProductKey\")], \n",
    "                                         dname(\"DistributionCenter\")]\n",
    "                                },\n",
    "                          series=[d(accumulate='SUM', name='revenue')],\n",
    "                          interval='Week',\n",
    "                          #require=d(pkg=\"extlang\"),\n",
    "                          require=[d(pkg=\"atsm\"), d(pkg=\"extlang\"), d(pkg=\"tsm\")],\n",
    "                          timeid=d(name='date'),\n",
    "                          lead=12,\n",
    "                          arrayout={\n",
    "                                    # specify output arrays\n",
    "                                    'arrays':[dname(\"pyPred\"), dname(\"rPred\")],\n",
    "                                    # specify table to put them in\n",
    "                                    'table':d(name=\"outarray\", replace=True)},\n",
    "                          objin=[\n",
    "                            d(table=d(name=\"outcode\", groupby=\"DistributionCenter\"), objRef=\"incode\")\n",
    "                                ],\n",
    "                          objout=[\n",
    "                            d(table=dname(\"outobj_pylog\"), objRef=\"pylog\"),\n",
    "                            d(table=dname(\"outobj_pyvars\"), objRef=\"pyvars\"),\n",
    "                            d(table=dname(\"outobj_rlog\"), objRef=\"rlog\"),\n",
    "                            d(table=dname(\"outobj_rvars\"), objRef=\"rvars\"),\n",
    "                            d(table=dname(\"outobj_modInfo\"), objRef=\"modInfo\"),\n",
    "                            d(table=dname(\"outobj_fcst\"), objRef=\"fcst\"),\n",
    "                            d(table=dname(\"outobj_select\"), objRef=\"select\"),\n",
    "                            d(table=dname(\"outobj_est\"), objRef=\"est\")\n",
    "                                 ],\n",
    "                          code=cmpcode)\n",
    "    del(d)\n",
    "    print(res) # summary of action call\n"
   ]
  },
  {
   "cell_type": "markdown",
   "metadata": {},
   "source": [
    "## Retrieve output tables"
   ]
  },
  {
   "cell_type": "code",
   "execution_count": null,
   "metadata": {},
   "outputs": [],
   "source": [
    "    fcst_tbl = conn.CASTable(\"outobj_fcst\")\n",
    "    est_tbl = conn.CASTable(\"outobj_est\")\n",
    "    modinfo_tbl = conn.CASTable(\"outobj_modInfo\")\n",
    "    select_table = swat.CASTable(\"outobj_select\")\n",
    "    select_table.set_connection(conn)\n"
   ]
  },
  {
   "cell_type": "markdown",
   "metadata": {},
   "source": [
    "## Print Python log\n",
    "This should just print some output from the statsmodels package. "
   ]
  },
  {
   "cell_type": "code",
   "execution_count": null,
   "metadata": {},
   "outputs": [],
   "source": [
    "    outlog_tbl = conn.CASTable(\"outobj_pylog\") \n",
    "    loglen = sum(outlog_tbl[\"_LOGLEN_\"].values) \n",
    "    # Print log if it's not empty\n",
    "    if loglen > 0: \n",
    "        text = \"\".join(outlog_tbl[\"_LOGTEXT_\"].values) \n",
    "        print(\"LOG:\") \n",
    "        print(text) \n",
    "        print() "
   ]
  },
  {
   "cell_type": "markdown",
   "metadata": {},
   "source": [
    "## Print R log"
   ]
  },
  {
   "cell_type": "code",
   "execution_count": null,
   "metadata": {},
   "outputs": [],
   "source": [
    "    outlog_tbl = conn.CASTable(\"outobj_rlog\") \n",
    "    loglen = sum(outlog_tbl[\"_LOGLEN_\"].values) \n",
    "    # Print log if it's not empty\n",
    "    if loglen > 0: \n",
    "        text = \"\".join(outlog_tbl[\"_LOGTEXT_\"].values) \n",
    "        print(\"LOG:\") \n",
    "        print(text) \n",
    "        print() "
   ]
  },
  {
   "cell_type": "markdown",
   "metadata": {},
   "source": [
    "## Check writable variables' status\n",
    "If any of the writable variables were not updated (i.e. data was not brought back to the SAS program), print them out. \n",
    "This code should not produce any output."
   ]
  },
  {
   "cell_type": "code",
   "execution_count": null,
   "metadata": {},
   "outputs": [],
   "source": [
    "    varstats_tbl = conn.CASTable(\"outobj_pyvars\") \n",
    "    varnames = varstats_tbl[\"_NAME_\"].values \n",
    "    updated = varstats_tbl[\"UPDATED\"].values \n",
    "    for varname,is_upd in zip(varnames,updated): \n",
    "        if int(is_upd) != 1: \n",
    "            print(\"WARNING :: Variable {0} was NOT updated\".format(varname)) "
   ]
  },
  {
   "cell_type": "markdown",
   "metadata": {},
   "source": [
    "## Print model selection information"
   ]
  },
  {
   "cell_type": "code",
   "execution_count": null,
   "metadata": {},
   "outputs": [],
   "source": [
    "    # Print model selection information\n",
    "    num_entries_to_print = 100\n",
    "    # NTS : Only one series, so no columns for the values\n",
    "    column_names = [\"_MODEL_\", \"_SELECTED_\", \"_LABEL_\", MODEL_SELECTION_CRITERION]\n",
    "    model_names, selected, descriptions, criterion_vals = \\\n",
    "        [select_table[col].values for col in column_names]\n",
    "    #print(\"Summary of model selection. (Only showing first {0} entries. \"\\\n",
    "    #      \"Modify code to see all\".format(num_entries_to_print))\n",
    "    print(\"{0:-^75}\".format(\" MODEL SELECTION SUMMARY \"))\n",
    "    print(\"{0:^12}|{1:^6}|{2:^8}|{3:^50}\"\n",
    "          .format(\"Model\", \"Picked\", MODEL_SELECTION_CRITERION, \"Description\"))\n",
    "    print(\"-\"*75)\n",
    "    counter = collections.Counter()\n",
    "    for i, (model, isSelected, desc, criterion) in \\\n",
    "        enumerate(zip( model_names, selected, descriptions, criterion_vals)):\n",
    "        if isSelected == \"YES\":\n",
    "            counter[model] += 1\n",
    "        if i == num_entries_to_print:\n",
    "            break\n",
    "        print(\"{0:<12}|{1:<6}|{2:^8}|{3:50}\"\n",
    "              .format(model[:12], isSelected, round(criterion,3), desc))\n",
    "    print(\"\\n\")\n"
   ]
  },
  {
   "cell_type": "markdown",
   "metadata": {},
   "source": [
    "## Create bar chart depicting how many times each model won"
   ]
  },
  {
   "cell_type": "code",
   "execution_count": null,
   "metadata": {},
   "outputs": [],
   "source": [
    "    objects = counter.keys()\n",
    "    y_pos = np.arange(len(objects))\n",
    "    plt.bar(y_pos, counter.values(), align='center')\n",
    "    plt.xticks(y_pos, objects)\n",
    "    plt.ylabel('Number of times it was Selected')\n",
    "    plt.title('Model')\n",
    "    plt.savefig(\"extlang_ex3_skin_selection.png\")\n",
    "\n"
   ]
  },
  {
   "cell_type": "markdown",
   "metadata": {},
   "source": [
    "## Tabulate a summary of the original and predicted values \n"
   ]
  },
  {
   "cell_type": "code",
   "execution_count": null,
   "metadata": {},
   "outputs": [],
   "source": [
    "    outarray_tbl = conn.CASTable(\"OUTARRAY\")\n",
    "    column_names = [\"DATE\", \"DistributionCenter\", \"Revenue\", \"pypred\", \"rpred\"]\n",
    "    dates, distr_centers, orig_values, pypred_vals, rpred_vals = \\\n",
    "        [outarray_tbl[col].values for col in column_names]\n",
    "    print('{0:-^72}'.format(' RESULTS '))\n",
    "    print(\"{0:^12}|{1:^20}|{2:^20}|{3:^20}|{4:^20}\".format(*column_names))\n",
    "    print(\"-\"*72)\n",
    "    for i, (date, distr_center, revenue, pyPred, rPred) in \\\n",
    "        enumerate(zip( dates, distr_centers, orig_values, pypred_vals, rpred_vals)):\n",
    "        print(\"{0:<12}|{1:^20}|{2:^20}|{3:^20}|{4:^20}\"\n",
    "              .format(str(date), distr_center, revenue, pyPred, rPred))\n",
    "    print(\"\\n\")"
   ]
  },
  {
   "cell_type": "markdown",
   "metadata": {},
   "source": [
    "## Plot the predicted and actual revenue for Miami, Chicago, and Atlanta "
   ]
  },
  {
   "cell_type": "code",
   "execution_count": null,
   "metadata": {},
   "outputs": [],
   "source": [
    "    from pandas.plotting import register_matplotlib_converters\n",
    "    register_matplotlib_converters()\n",
    "    ax = plt.gca()\n",
    "    plt.ylabel(\"Revenue\")\n",
    "    for city,color in zip([\"Philadelphia\", \"Las Vegas\", \"Detroit\"],[\"green\", \"purple\", \"black\"]): \n",
    "        idc = [i for i,ctr in enumerate(distr_centers) if ctr==city] \n",
    "        ctr_orig = orig_values[idc] \n",
    "        ctr_pypred = pypred_vals[idc] \n",
    "        ctr_rpred = rpred_vals[idc] \n",
    "        dates_1x = dates[idc]\n",
    "        plt.scatter(dates_1x, ctr_orig, color=color, marker=\"o\", lw=0.5,\n",
    "                    label=\"Actual\", facecolors=\"none\", edgecolors=color)\n",
    "        plt.plot(dates_1x, ctr_pypred, color=\"blue\", ls=\"-\", lw=0.5,\n",
    "                 label=\"PythonForecast\")\n",
    "        plt.plot(dates_1x, ctr_rpred, color=\"red\", ls=\"-\", lw=0.5,\n",
    "                 label=\"RForcast\")\n",
    "    handles, labels = ax.get_legend_handles_labels()\n",
    "    ax.legend(handles, labels)\n",
    "    # Set x ticks to be every 5 years so text doesn't get clobbered\n",
    "    ax.xaxis.set_major_locator(mpldates.YearLocator(5))\n",
    "    plt.savefig(\"extlang_ex3_skin.png\")"
   ]
  },
  {
   "cell_type": "code",
   "execution_count": null,
   "metadata": {},
   "outputs": [],
   "source": []
  }
 ],
 "metadata": {
  "kernelspec": {
   "display_name": "Python 3",
   "language": "python",
   "name": "python3"
  },
  "language_info": {
   "codemirror_mode": {
    "name": "ipython",
    "version": 3
   },
   "file_extension": ".py",
   "mimetype": "text/x-python",
   "name": "python",
   "nbconvert_exporter": "python",
   "pygments_lexer": "ipython3",
   "version": "3.7.3"
  }
 },
 "nbformat": 4,
 "nbformat_minor": 2
}
